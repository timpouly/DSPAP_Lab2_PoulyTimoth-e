{
 "cells": [
  {
   "cell_type": "markdown",
   "id": "fd2d9d7f",
   "metadata": {},
   "source": [
    "# Lab 2 – Essential Tools and Practices for Programming Projects in AI\n",
    "\n",
    "TP of Timothée POULY\n",
    "\n",
    "Author: Rim Slama Salmi\n",
    "\n",
    "Last modified: September 14, 2025\n",
    "\n",
    "**Objectives**\n",
    "- Manage virtual environments properly (with Conda or venv) to ensure reproducibility.\n",
    "- Set up a Python project following best practices.\n",
    "- Use Git and GitHub to ensure collaborative project tracking.\n",
    "- Apply collaborative work with branch management and conflict resolution\n",
    "  \n",
    "**Resources**\n",
    "\n",
    "- [Getting started with VS Code](https://code.visualstudio.com/docs/getstarted/getting-started)  \n",
    "- [Create a conda environment in the terminal](https://code.visualstudio.com/docs/python/environments#_create-a-conda-environment-in-the-terminal)  \n",
    "- [Git management in Visual Studio Code](https://code.visualstudio.com/docs/sourcecontrol/overview)  \n",
    "\n"
   ]
  },
  {
   "cell_type": "markdown",
   "id": "5faf1fd7",
   "metadata": {},
   "source": [
    "## 01 - Project setup (virtual env & Git/Github)"
   ]
  },
  {
   "cell_type": "markdown",
   "id": "5dd3759e",
   "metadata": {},
   "source": [
    "### 1.1 Load and open the project folder in VS Code\n",
    "- Load DSPAP_Lab2 from Moodle\n",
    "- Rename it to **DSPAP_Lab2_YourName**\n",
    "- Open **VS Code** → `File` → `Open Folder…` → select **DSPAP_Lab2_YourName**  \n"
   ]
  },
  {
   "cell_type": "markdown",
   "id": "af6a147f",
   "metadata": {},
   "source": [
    "### 1.2 Activate Lab2 environment or create it from `.yml` file  \n",
    "\n",
    "- In the VS Code terminal, make sure you have a dedicated environment for **Lab2**.  \n",
    "\n",
    "👉 If it does not exist yet, create it with:  \n",
    "- Option 1: If you already have a Lab2.yml file, you can recreate the environment directly:\n",
    "```bash\n",
    "conda env create -f Lab2.yml\n",
    "```\n",
    "- Option2: Create it for the first time with:  \n",
    "```bash\n",
    "conda create -n Lab2_yourName python=3.11 numpy pandas matplotlib pyyaml scikit-learn ipykernel\n",
    "```\n"
   ]
  },
  {
   "cell_type": "markdown",
   "id": "7b0ecc65",
   "metadata": {},
   "source": [
    "\n",
    "### 1.3 Start version control\n",
    "- VS Code interface: open the Source Control panel → Initialize Repository → Stage → Commit\n",
    "\n",
    "- Command line:\n",
    "```bash\n",
    "    git init\n",
    "    git add .\n",
    "    git commit -m \"Initial commit\"\n",
    "```"
   ]
  },
  {
   "cell_type": "markdown",
   "id": "b671dcf4",
   "metadata": {},
   "source": [
    "### 1.4 Connect to GitHub\n",
    "- Publish repository from VS Code → choose your account → set Private visibility"
   ]
  },
  {
   "cell_type": "markdown",
   "id": "ffc6dd49",
   "metadata": {},
   "source": [
    "\n",
    "### 1.5 Add a .gitignore (if not already)\n",
    "- Create a .gitignore file and include:*.txt\n",
    "- Commit with message"
   ]
  },
  {
   "cell_type": "markdown",
   "id": "ac0b3d5d",
   "metadata": {},
   "source": [
    "### 1.6 Sync changes to GitHub\n",
    "- In the Source Control panel, click Sync Changes (🔄)"
   ]
  },
  {
   "cell_type": "markdown",
   "id": "59055217",
   "metadata": {},
   "source": [
    " \n",
    "## 2 – Best Practices in AI Project Management & Code\n",
    "⚠️ All operations must be tracked with explicit commits.\n"
   ]
  },
  {
   "cell_type": "markdown",
   "id": "d2b4d0a9",
   "metadata": {},
   "source": [
    "- This lab uses a reduced subset of the Open Food Facts (France) database, which you already worked with in Lab 1.\n",
    "- For this session, we focus on a France-specific subset containing selected columns on metadata, nutrients, and scores.\n",
    "- The dataset provided (cleaned.csv) has already been cleaned, with missing values removed."
   ]
  },
  {
   "cell_type": "code",
   "execution_count": 1,
   "id": "c8cc6c39",
   "metadata": {},
   "outputs": [],
   "source": [
    "#Imports \n",
    "# THIS CELL IS ONLY FOR IMPORTS DO NOT CHANGE IT\n",
    "import os, numpy as np, pandas as pd, matplotlib.pyplot as plt\n",
    "from pathlib import Path\n",
    "import yaml\n",
    "from sklearn.preprocessing import StandardScaler\n",
    "from sklearn.decomposition import PCA\n",
    "import sys"
   ]
  },
  {
   "cell_type": "code",
   "execution_count": 2,
   "id": "b3f323d3",
   "metadata": {},
   "outputs": [],
   "source": [
    "#paths\n",
    "DATASET_PATH=\"../data/cleaned.csv\"\n",
    "YML_path = \"../config/config.yaml\""
   ]
  },
  {
   "cell_type": "markdown",
   "id": "02494c7c",
   "metadata": {},
   "source": [
    "### 2.1 Project organization\n",
    "\n",
    "👉 Instruction:  \n",
    "- Rename your project folder to **DSPAP_Lab2_YourName** (*replace `YourName` with your own name*).  \n",
    "- If some of your files have names that are not meaningful (e.g. `test1.ipynb`, `data123.csv`), **rename them with clear, descriptive names** (e.g. `data_cleaned.csv`, `analysis.ipynb`).  \n",
    "- Then, place your files into a clean and consistent folder structure, here an example of good structure:\n",
    "\n",
    "  \n",
    "    DSPAP_Lab2/\n",
    "\n",
    "    ├─ data/           # datasets\n",
    "\n",
    "    ├─ notebooks/      # Jupyter notebooks\n",
    "\n",
    "    ├─ src/            # Python modules (.py)\n",
    "\n",
    "    ├─ config/         # configuration files\n",
    "\n",
    "    └─ README.md\n"
   ]
  },
  {
   "cell_type": "markdown",
   "id": "1217d6c4",
   "metadata": {},
   "source": [
    "### 2.2 **Load** the dataset from cleaned.csv, **display** a few sample rows, and **check** the shape of the data (number of rows and columns).\n",
    "Load the CSV into a DataFrame `df`. \n",
    " Use the `pd.read_csv()` function. \n",
    "\n",
    " Explore it "
   ]
  },
  {
   "cell_type": "code",
   "execution_count": 3,
   "id": "a8ccd9e7",
   "metadata": {},
   "outputs": [
    {
     "name": "stdout",
     "output_type": "stream",
     "text": [
      "<class 'pandas.core.frame.DataFrame'>\n",
      "RangeIndex: 121501 entries, 0 to 121500\n",
      "Data columns (total 15 columns):\n",
      " #   Column                     Non-Null Count   Dtype  \n",
      "---  ------                     --------------   -----  \n",
      " 0   product_name               121501 non-null  object \n",
      " 1   brands                     121501 non-null  object \n",
      " 2   pnns_groups_1              121501 non-null  object \n",
      " 3   pnns_groups_2              121501 non-null  object \n",
      " 4   energy-kcal_100g           121501 non-null  float64\n",
      " 5   sugars_100g                121501 non-null  float64\n",
      " 6   fat_100g                   121501 non-null  float64\n",
      " 7   saturated-fat_100g         121501 non-null  float64\n",
      " 8   salt_100g                  121501 non-null  float64\n",
      " 9   fiber_100g                 121501 non-null  float64\n",
      " 10  proteins_100g              121501 non-null  float64\n",
      " 11  nutriscore_grade           121501 non-null  object \n",
      " 12  nova_group                 121501 non-null  float64\n",
      " 13  environmental_score_grade  121501 non-null  object \n",
      " 14  unique_scans_n             121501 non-null  float64\n",
      "dtypes: float64(9), object(6)\n",
      "memory usage: 13.9+ MB\n"
     ]
    },
    {
     "data": {
      "text/html": [
       "<div>\n",
       "<style scoped>\n",
       "    .dataframe tbody tr th:only-of-type {\n",
       "        vertical-align: middle;\n",
       "    }\n",
       "\n",
       "    .dataframe tbody tr th {\n",
       "        vertical-align: top;\n",
       "    }\n",
       "\n",
       "    .dataframe thead th {\n",
       "        text-align: right;\n",
       "    }\n",
       "</style>\n",
       "<table border=\"1\" class=\"dataframe\">\n",
       "  <thead>\n",
       "    <tr style=\"text-align: right;\">\n",
       "      <th></th>\n",
       "      <th>product_name</th>\n",
       "      <th>brands</th>\n",
       "      <th>pnns_groups_1</th>\n",
       "      <th>pnns_groups_2</th>\n",
       "      <th>energy-kcal_100g</th>\n",
       "      <th>sugars_100g</th>\n",
       "      <th>fat_100g</th>\n",
       "      <th>saturated-fat_100g</th>\n",
       "      <th>salt_100g</th>\n",
       "      <th>fiber_100g</th>\n",
       "      <th>proteins_100g</th>\n",
       "      <th>nutriscore_grade</th>\n",
       "      <th>nova_group</th>\n",
       "      <th>environmental_score_grade</th>\n",
       "      <th>unique_scans_n</th>\n",
       "    </tr>\n",
       "  </thead>\n",
       "  <tbody>\n",
       "    <tr>\n",
       "      <th>0</th>\n",
       "      <td>Madeleines ChocoLait</td>\n",
       "      <td>Apple bandit</td>\n",
       "      <td>Sugary snacks</td>\n",
       "      <td>Biscuits and cakes</td>\n",
       "      <td>460.0</td>\n",
       "      <td>31.00</td>\n",
       "      <td>24.00</td>\n",
       "      <td>6.000</td>\n",
       "      <td>0.4800</td>\n",
       "      <td>1.40</td>\n",
       "      <td>6.40</td>\n",
       "      <td>e</td>\n",
       "      <td>4.0</td>\n",
       "      <td>d</td>\n",
       "      <td>1.0</td>\n",
       "    </tr>\n",
       "    <tr>\n",
       "      <th>1</th>\n",
       "      <td>Collagen For Her</td>\n",
       "      <td>Bodylab</td>\n",
       "      <td>unknown</td>\n",
       "      <td>unknown</td>\n",
       "      <td>123.0</td>\n",
       "      <td>0.00</td>\n",
       "      <td>1.76</td>\n",
       "      <td>0.882</td>\n",
       "      <td>0.0882</td>\n",
       "      <td>1.76</td>\n",
       "      <td>1.76</td>\n",
       "      <td>unknown</td>\n",
       "      <td>4.0</td>\n",
       "      <td>unknown</td>\n",
       "      <td>6.0</td>\n",
       "    </tr>\n",
       "    <tr>\n",
       "      <th>2</th>\n",
       "      <td>Lindt Vollmilch Schokolade</td>\n",
       "      <td>Lindt</td>\n",
       "      <td>unknown</td>\n",
       "      <td>unknown</td>\n",
       "      <td>6.0</td>\n",
       "      <td>0.20</td>\n",
       "      <td>0.30</td>\n",
       "      <td>0.200</td>\n",
       "      <td>0.8000</td>\n",
       "      <td>0.10</td>\n",
       "      <td>0.30</td>\n",
       "      <td>unknown</td>\n",
       "      <td>4.0</td>\n",
       "      <td>unknown</td>\n",
       "      <td>2.0</td>\n",
       "    </tr>\n",
       "    <tr>\n",
       "      <th>3</th>\n",
       "      <td>Multi Patents Collagen Peptides</td>\n",
       "      <td>VEV</td>\n",
       "      <td>Sugary snacks</td>\n",
       "      <td>Biscuits and cakes</td>\n",
       "      <td>350.0</td>\n",
       "      <td>9.09</td>\n",
       "      <td>0.00</td>\n",
       "      <td>0.000</td>\n",
       "      <td>0.0000</td>\n",
       "      <td>0.00</td>\n",
       "      <td>90.90</td>\n",
       "      <td>a</td>\n",
       "      <td>3.0</td>\n",
       "      <td>b</td>\n",
       "      <td>1.0</td>\n",
       "    </tr>\n",
       "    <tr>\n",
       "      <th>4</th>\n",
       "      <td>Fondants Citron</td>\n",
       "      <td>Lindt</td>\n",
       "      <td>Sugary snacks</td>\n",
       "      <td>Sweets</td>\n",
       "      <td>249.0</td>\n",
       "      <td>59.00</td>\n",
       "      <td>0.30</td>\n",
       "      <td>0.050</td>\n",
       "      <td>0.0500</td>\n",
       "      <td>2.00</td>\n",
       "      <td>0.50</td>\n",
       "      <td>d</td>\n",
       "      <td>4.0</td>\n",
       "      <td>b</td>\n",
       "      <td>12.0</td>\n",
       "    </tr>\n",
       "  </tbody>\n",
       "</table>\n",
       "</div>"
      ],
      "text/plain": [
       "                      product_name        brands  pnns_groups_1  \\\n",
       "0             Madeleines ChocoLait  Apple bandit  Sugary snacks   \n",
       "1                 Collagen For Her       Bodylab        unknown   \n",
       "2       Lindt Vollmilch Schokolade         Lindt        unknown   \n",
       "3  Multi Patents Collagen Peptides           VEV  Sugary snacks   \n",
       "4                  Fondants Citron         Lindt  Sugary snacks   \n",
       "\n",
       "        pnns_groups_2  energy-kcal_100g  sugars_100g  fat_100g  \\\n",
       "0  Biscuits and cakes             460.0        31.00     24.00   \n",
       "1             unknown             123.0         0.00      1.76   \n",
       "2             unknown               6.0         0.20      0.30   \n",
       "3  Biscuits and cakes             350.0         9.09      0.00   \n",
       "4              Sweets             249.0        59.00      0.30   \n",
       "\n",
       "   saturated-fat_100g  salt_100g  fiber_100g  proteins_100g nutriscore_grade  \\\n",
       "0               6.000     0.4800        1.40           6.40                e   \n",
       "1               0.882     0.0882        1.76           1.76          unknown   \n",
       "2               0.200     0.8000        0.10           0.30          unknown   \n",
       "3               0.000     0.0000        0.00          90.90                a   \n",
       "4               0.050     0.0500        2.00           0.50                d   \n",
       "\n",
       "   nova_group environmental_score_grade  unique_scans_n  \n",
       "0         4.0                         d             1.0  \n",
       "1         4.0                   unknown             6.0  \n",
       "2         4.0                   unknown             2.0  \n",
       "3         3.0                         b             1.0  \n",
       "4         4.0                         b            12.0  "
      ]
     },
     "execution_count": 3,
     "metadata": {},
     "output_type": "execute_result"
    }
   ],
   "source": [
    "# TODO 2.2\n",
    "# 1. Load the dataset from 'cleaned.csv' into a DataFrame (use pandas)\n",
    "# 2. Display the first few rows of the dataset\n",
    "# 3. Print the shape of the dataset (rows, columns)\n",
    "\n",
    "df = pd.read_csv(DATASET_PATH)\n",
    "df.info()\n",
    "df.head()"
   ]
  },
  {
   "cell_type": "markdown",
   "id": "bb3cd187",
   "metadata": {},
   "source": [
    "### 2.2 Remember and execute PCA main operations from TP1 "
   ]
  },
  {
   "cell_type": "markdown",
   "id": "8e28a723",
   "metadata": {},
   "source": [
    "\n",
    "From the full dataset, we now focus on a subset of **nutritional features** that will be used for analysis and modeling.  \n",
    "We create a clean DataFrame with only these columns, extract the underlying numerical values into a NumPy array `X`, and check its shape (rows × columns)."
   ]
  },
  {
   "cell_type": "markdown",
   "id": "3ceb6c4a",
   "metadata": {},
   "source": [
    "1. **Select features**  \n",
    "   - Nutrients: `sugars_100g`, `fat_100g`, `salt_100g`, `proteins_100g`, `energy-kcal_100g`, `fiber_100g`  \n",
    "   - Drop rows with missing values before building the feature matrix.\n",
    "\n",
    "2. **Standardize**  \n",
    "   - Use `StandardScaler` to center and scale features.  \n",
    "   - Standardization is important because nutrients are in different units (g, kcal, etc.).  \n",
    "   - 📖 [StandardScaler](https://scikit-learn.org/stable/modules/generated/sklearn.preprocessing.StandardScaler.html)\n",
    "\n",
    "3. **Fit PCA**  \n",
    "   - Run `PCA()` on the standardized data.  \n",
    "   - Plot both the explained variance ratio (per component) and the cumulative ratio.  \n",
    "   - These show how much information each principal component captures.  \n",
    "   - 📖 [PCA](https://scikit-learn.org/stable/modules/generated/sklearn.decomposition.PCA.html)"
   ]
  },
  {
   "cell_type": "code",
   "execution_count": 4,
   "id": "fc178733",
   "metadata": {},
   "outputs": [
    {
     "name": "stdout",
     "output_type": "stream",
     "text": [
      "   sugars_100g  fat_100g  salt_100g  proteins_100g  energy-kcal_100g  \\\n",
      "0        31.00     24.00     0.4800           6.40             460.0   \n",
      "1         0.00      1.76     0.0882           1.76             123.0   \n",
      "2         0.20      0.30     0.8000           0.30               6.0   \n",
      "3         9.09      0.00     0.0000          90.90             350.0   \n",
      "4        59.00      0.30     0.0500           0.50             249.0   \n",
      "\n",
      "   fiber_100g  \n",
      "0        1.40  \n",
      "1        1.76  \n",
      "2        0.10  \n",
      "3        0.00  \n",
      "4        2.00  \n",
      "   sugars_100g  fat_100g  salt_100g  proteins_100g  energy-kcal_100g  \\\n",
      "0     0.827808  0.519854  -0.077727      -0.089863         -0.002869   \n",
      "1    -0.621031 -0.525722  -0.127392      -0.412073         -0.002869   \n",
      "2    -0.611684 -0.594361  -0.037164      -0.513458         -0.002869   \n",
      "3    -0.196194 -0.608465  -0.138572       5.777966         -0.002869   \n",
      "4     2.136437 -0.594361  -0.132234      -0.499569         -0.002869   \n",
      "\n",
      "   fiber_100g  \n",
      "0   -0.278157  \n",
      "1   -0.213253  \n",
      "2   -0.512533  \n",
      "3   -0.530562  \n",
      "4   -0.169984  \n"
     ]
    },
    {
     "data": {
      "image/png": "[encoded data removed]",
      "text/plain": [
       "<Figure size 800x500 with 1 Axes>"
      ]
     },
     "metadata": {},
     "output_type": "display_data"
    }
   ],
   "source": [
    "#(run this cell)\n",
    "#1. **Select features**  \n",
    "nutritional_features = [\n",
    "    \"sugars_100g\",\n",
    "    \"fat_100g\",\n",
    "    \"salt_100g\",\n",
    "    \"proteins_100g\",\n",
    "    \"energy-kcal_100g\",\n",
    "    \"fiber_100g\"\n",
    "]\n",
    "\n",
    "df_nutrition = df[nutritional_features].dropna()\n",
    "\n",
    "print(df_nutrition.head())\n",
    "\n",
    "\n",
    "#2. **Standardize**  \n",
    "scaler = StandardScaler()\n",
    "df_nutrition_scaled = pd.DataFrame(\n",
    "    scaler.fit_transform(df_nutrition),\n",
    "    columns=nutritional_features,\n",
    "    index=df_nutrition.index\n",
    ")\n",
    "\n",
    "print(df_nutrition_scaled.head())\n",
    "\n",
    "\n",
    "#3. **Fit PCA**  \n",
    "pca = PCA()\n",
    "pca.fit(df_nutrition_scaled)\n",
    "\n",
    "\n",
    "# **Explained Ratio*  \n",
    "explained_var = pca.explained_variance_ratio_\n",
    "\n",
    "\n",
    "# cumulative explained variance ratio\n",
    "cumulative_explained_var = explained_var.cumsum()\n",
    "\n",
    "#display Correlation circle\n",
    "plt.figure(figsize=(8,5))\n",
    "plt.bar(range(1, len(explained_var)+1), explained_var, alpha=0.7, label=\"Individual explained variance\")\n",
    "plt.step(range(1, len(explained_var)+1), explained_var.cumsum(), where=\"mid\", label=\"Cumulative explained variance\", color=\"red\")\n",
    "plt.xlabel(\"Principal components\")\n",
    "plt.ylabel(\"Explained variance ratio\")\n",
    "plt.title(\"PCA - Explained variance\")\n",
    "plt.legend()\n",
    "plt.show()"
   ]
  },
  {
   "cell_type": "markdown",
   "id": "1f9b1e85",
   "metadata": {},
   "source": [
    "### 2.3 Display PCA correlation circle (axes 1–2) from TP1."
   ]
  },
  {
   "cell_type": "code",
   "execution_count": 5,
   "id": "f4999012",
   "metadata": {},
   "outputs": [
    {
     "data": {
      "image/png": "[encoded data removed]",
      "text/plain": [
       "<Figure size 700x700 with 1 Axes>"
      ]
     },
     "metadata": {},
     "output_type": "display_data"
    }
   ],
   "source": [
    "#(run this cell)\n",
    "\n",
    "loadings = pca.components_.T * np.sqrt(pca.explained_variance_)\n",
    "\n",
    "\n",
    "plt.figure(figsize=(7,7))\n",
    "plt.axhline(0, color='grey', lw=1)\n",
    "plt.axvline(0, color='grey', lw=1)\n",
    "\n",
    "\n",
    "circle = plt.Circle((0,0), 1, color='blue', fill=False)\n",
    "plt.gca().add_artist(circle)\n",
    "\n",
    "\n",
    "for i, col in enumerate(df_nutrition_scaled.columns):\n",
    "    plt.arrow(0, 0, loadings[i,0], loadings[i,1], \n",
    "              color='red', alpha=0.7, head_width=0.03)\n",
    "    plt.text(loadings[i,0]*1.1, loadings[i,1]*1.1, col, color='black')\n",
    "\n",
    "plt.xlabel(f\"PC1 ({explained_var[0]*100:.1f}%)\")\n",
    "plt.ylabel(f\"PC2 ({explained_var[1]*100:.1f}%)\")\n",
    "plt.title(\"PCA Correlation Circle (PC1 vs PC2)\")\n",
    "plt.axis(\"equal\")\n",
    "plt.show()"
   ]
  },
  {
   "cell_type": "markdown",
   "id": "5899780a",
   "metadata": {},
   "source": [
    "### 2.4 Write a commented function to automate correlation circle display and give example usage for axes 1–2, 2–3, 1-3.\n",
    "💡 *Hints & Recommendations:*  \n",
    "- Use **snake_case** for the function name and variables.\n",
    "- Add a **docstring** at the start of your function explaining what it does, its inputs, and outputs.  \n",
    "- Comment important steps inside the function (data extraction, plotting, labeling).  \n",
    "- Test your function with different axes combinations: (1–2), (2–3), (1–3).  \n",
    "  \n",
    "Here’s how to write a clean and well-documented function that adds two numbers:\n",
    "```python\n",
    "def add_two_numbers(a, b):\n",
    "    \"\"\"\n",
    "    Return the sum of two numbers.\n",
    "\n",
    "    Parameters\n",
    "    ----------\n",
    "    a : int or float\n",
    "        First number.\n",
    "    b : int or float\n",
    "        Second number.\n",
    "\n",
    "    Returns\n",
    "    -------\n",
    "    int or float\n",
    "        The sum of a and b.\n",
    "    \"\"\"\n",
    "    # Add the two inputs\n",
    "    result = a + b\n",
    "\n",
    "    # Return the result\n",
    "    return result\n",
    "```\n",
    "Example usage\n",
    "```python\n",
    "print(add_two_numbers(3, 5))     # 8\n",
    "```"
   ]
  },
  {
   "cell_type": "code",
   "execution_count": 6,
   "id": "26df31e5",
   "metadata": {},
   "outputs": [],
   "source": [
    "# TODO 2.4\n",
    "def plot_correlation_circle(pca, features, axis1=1, axis2=2):\n",
    "    \"\"\"\n",
    "    Displays a PCA correlation circle for two selected axes.\n",
    "\n",
    "    pca: PCA object already fitted\n",
    "    features: list of variable names (columns)\n",
    "    axis1: first axis (1-indexed)\n",
    "    axis2: second axis (1-indexed)\n",
    "    \"\"\"\n",
    "    # Loadings\n",
    "    loadings = pca.components_.T * np.sqrt(pca.explained_variance_)\n",
    "\n",
    "    # Indices Python (0-indexed)\n",
    "    x_axis = axis1 - 1\n",
    "    y_axis = axis2 - 1\n",
    "\n",
    "    plt.figure(figsize=(7,7))\n",
    "    plt.axhline(0, color='grey', lw=1)\n",
    "    plt.axvline(0, color='grey', lw=1)\n",
    "\n",
    "    # Circle with R=1\n",
    "    circle = plt.Circle((0,0), 1, color='blue', fill=False)\n",
    "    plt.gca().add_artist(circle)\n",
    "\n",
    "    # Arrows for each feature\n",
    "    for i, col in enumerate(features):\n",
    "        plt.arrow(0, 0, loadings[i, x_axis], loadings[i, y_axis], \n",
    "                  color='red', alpha=0.7, head_width=0.03, length_includes_head=True)\n",
    "        plt.text(loadings[i, x_axis]*1.1, loadings[i, y_axis]*1.1, col, color='black')\n",
    "\n",
    "    plt.xlabel(f\"PC{axis1} ({pca.explained_variance_ratio_[x_axis]*100:.1f}%)\")\n",
    "    plt.ylabel(f\"PC{axis2} ({pca.explained_variance_ratio_[y_axis]*100:.1f}%)\")\n",
    "    plt.title(f\"PCA Correlation Circle (PC{axis1} vs PC{axis2})\")\n",
    "    plt.axis(\"equal\")\n",
    "    plt.show()\n"
   ]
  },
  {
   "cell_type": "markdown",
   "id": "4834bbc4",
   "metadata": {},
   "source": [
    "### 2.4 Place the function inside the corresponding folder, in a dedicated Python module. "
   ]
  },
  {
   "cell_type": "code",
   "execution_count": 7,
   "id": "60b836fd",
   "metadata": {},
   "outputs": [],
   "source": [
    "####TODO\n",
    "#The file is plot_correlation_circle.py and it is located in the src folder in the project structure"
   ]
  },
  {
   "cell_type": "markdown",
   "id": "3e6e8624",
   "metadata": {},
   "source": [
    "### 2.5  Import the function you created from the Python file in the `src/` folder.  Call it to display the **correlation circle for PCA axes 1 and 3**.  \n",
    "\n",
    "💡 Example of importing a function from a Python module\n",
    "  ```python\n",
    "  from folder.module_name import function_name\n",
    "```\n",
    "💡 Recommendation:\n",
    "To avoid errors if the file or function is not found, wrap your import in a try/except block\n"
   ]
  },
  {
   "cell_type": "code",
   "execution_count": 8,
   "id": "66c1def9",
   "metadata": {},
   "outputs": [
    {
     "data": {
      "image/png": "[encoded data removed]",
      "text/plain": [
       "<Figure size 700x700 with 1 Axes>"
      ]
     },
     "metadata": {},
     "output_type": "display_data"
    }
   ],
   "source": [
    "### TODO\n",
    "\n",
    "sys.path.append(\"../src\")\n",
    "\n",
    "from plot_correlation_circle import plot_correlation_circle\n",
    "\n",
    "plot_correlation_circle(pca, nutritional_features, axis1=1, axis2=3)\n",
    "\n"
   ]
  },
  {
   "cell_type": "markdown",
   "id": "b33d856c",
   "metadata": {},
   "source": [
    "### 2.6 Update notebook to read CSV path and number of PCA components from config.yaml\n",
    "- **Reload** the dataset from the path specified in YAML.  \n",
    "- Get `data_path` and `n_components` from config  \n",
    "- **Redo** the **PCA** on your feature matrix `X` using the number of components defined in YAML and display the new dataset with the proposed n_components.  \n",
    "\n",
    "- Tuto\n",
    "📘 [Working with YAML in Python (blog.stephane-robert.info)](https://blog.stephane-robert.info/docs/developper/programmation/python/yaml/)  \n"
   ]
  },
  {
   "cell_type": "code",
   "execution_count": 23,
   "id": "41e4fe87",
   "metadata": {},
   "outputs": [
    {
     "data": {
      "text/plain": [
       "'NewDataset2'"
      ]
     },
     "metadata": {},
     "output_type": "display_data"
    },
    {
     "data": {
      "text/html": [
       "<div>\n",
       "<style scoped>\n",
       "    .dataframe tbody tr th:only-of-type {\n",
       "        vertical-align: middle;\n",
       "    }\n",
       "\n",
       "    .dataframe tbody tr th {\n",
       "        vertical-align: top;\n",
       "    }\n",
       "\n",
       "    .dataframe thead th {\n",
       "        text-align: right;\n",
       "    }\n",
       "</style>\n",
       "<table border=\"1\" class=\"dataframe\">\n",
       "  <thead>\n",
       "    <tr style=\"text-align: right;\">\n",
       "      <th></th>\n",
       "      <th>PC1</th>\n",
       "      <th>PC2</th>\n",
       "    </tr>\n",
       "  </thead>\n",
       "  <tbody>\n",
       "    <tr>\n",
       "      <th>sugars_100g</th>\n",
       "      <td>0.133721</td>\n",
       "      <td>-0.695724</td>\n",
       "    </tr>\n",
       "    <tr>\n",
       "      <th>fat_100g</th>\n",
       "      <td>0.548348</td>\n",
       "      <td>-0.012242</td>\n",
       "    </tr>\n",
       "    <tr>\n",
       "      <th>salt_100g</th>\n",
       "      <td>0.055980</td>\n",
       "      <td>0.706894</td>\n",
       "    </tr>\n",
       "    <tr>\n",
       "      <th>proteins_100g</th>\n",
       "      <td>0.630652</td>\n",
       "      <td>0.120821</td>\n",
       "    </tr>\n",
       "    <tr>\n",
       "      <th>energy-kcal_100g</th>\n",
       "      <td>-0.004477</td>\n",
       "      <td>0.024861</td>\n",
       "    </tr>\n",
       "    <tr>\n",
       "      <th>fiber_100g</th>\n",
       "      <td>0.529676</td>\n",
       "      <td>-0.030038</td>\n",
       "    </tr>\n",
       "  </tbody>\n",
       "</table>\n",
       "</div>"
      ],
      "text/plain": [
       "                       PC1       PC2\n",
       "sugars_100g       0.133721 -0.695724\n",
       "fat_100g          0.548348 -0.012242\n",
       "salt_100g         0.055980  0.706894\n",
       "proteins_100g     0.630652  0.120821\n",
       "energy-kcal_100g -0.004477  0.024861\n",
       "fiber_100g        0.529676 -0.030038"
      ]
     },
     "metadata": {},
     "output_type": "display_data"
    }
   ],
   "source": [
    "\n",
    "### TODO 2.6\n",
    "with open(\"../config/config.yaml\", \"r\") as f:\n",
    "    config = yaml.safe_load(f)\n",
    "\n",
    "data_path = config[\"data\"][\"path\"]\n",
    "n_components = config[\"pca\"][\"n_components\"]\n",
    "\n",
    "df = pd.read_csv(data_path)\n",
    "\n",
    "feats = [\"sugars_100g\", \"fat_100g\", \"salt_100g\", \"proteins_100g\", \"energy-kcal_100g\", \"fiber_100g\"]\n",
    "df_nutrition = df[feats].dropna()\n",
    "\n",
    "df_scaled = pd.DataFrame(scaler.fit_transform(df_nutrition), columns=feats, index=df_nutrition.index)\n",
    "\n",
    "pca2 = PCA(n_components=n_components)\n",
    "pca2.fit(df_scaled)\n",
    "\n",
    "NewDataset2 = pd.DataFrame(\n",
    "    pca2.components_.T,\n",
    "    index=feats,\n",
    "    columns=[f\"PC{i+1}\" for i in range(pca2.components_.shape[0])]\n",
    ")\n",
    "\n",
    "display(\"NewDataset2\", NewDataset2)\n"
   ]
  },
  {
   "cell_type": "markdown",
   "id": "409a5102",
   "metadata": {},
   "source": [
    "### 2.7 Create a README.md with the title: **Essential Tools and Practices for Programming Projects in AI**\n",
    "📝 A simple guide to get started with markdown:  \n",
    "[Markdown Basic Syntax (markdownguide.org)](https://www.markdownguide.org/basic-syntax/)"
   ]
  },
  {
   "cell_type": "code",
   "execution_count": null,
   "id": "953f8330",
   "metadata": {},
   "outputs": [],
   "source": [
    "#TODO\n",
    "#Create a README.md with the title: **Essential Tools and Practices for Programming Projects in AI**"
   ]
  },
  {
   "cell_type": "markdown",
   "id": "b1353181",
   "metadata": {},
   "source": [
    "## 3 – Collaboration and Sharing with Git/GitHub"
   ]
  },
  {
   "cell_type": "markdown",
   "id": "3660cdf4",
   "metadata": {},
   "source": [
    "### 3.1 Share the project\n",
    "•\tStudent 1 shares their GitHub project and adds Student 2 as collaborator.\n",
    "•\tStudent 2 clones the project.\n"
   ]
  },
  {
   "cell_type": "markdown",
   "id": "a32da649",
   "metadata": {},
   "source": [
    "### 3.2 Create the environment\n",
    "•\tInside VS Code terminal:\n",
    "•\tconda env create -f environment.yml\n",
    "•\tconda activate Lab2_name\n"
   ]
  },
  {
   "cell_type": "markdown",
   "id": "abf8c5fe",
   "metadata": {},
   "source": [
    "### 3.3 Collaborative work (on Student 1’s project)\n",
    "•\tFrom now on, each pair works only on Student 1’s project.\n",
    "•\tStudent 1 and Student 2 create separate branches to collaboratively write the README:\n",
    "\n",
    "- Branch feature1_projectInfo (Student 1):\n",
    "  - Project Title & Description – what the project does\n",
    "  - Author(s) – contributors and contact info\n",
    "  - Citation/License – mention that this comes from Angelo Furno’s course\n",
    "- Branch feature2_projectSetUp (Student 2):\n",
    "  - Installation – environment setup (Lab2_name)\n",
    "  - Usage – how to run notebooks\n",
    "  - Results – main outputs/metrics (optional)\n",
    "  - Project Structure – short folder overview\n",
    "\n"
   ]
  },
  {
   "cell_type": "markdown",
   "id": "0c0483df",
   "metadata": {},
   "source": [
    "### 3.4 Sync & merge\n",
    "•\tPush contributions to GitHub.\n",
    "•\tMerge branches into main to obtain a complete README.\n",
    "•\tHandle merge conflicts directly in VS Code if needed.\n"
   ]
  },
  {
   "cell_type": "markdown",
   "id": "a6f98340",
   "metadata": {},
   "source": [
    "### 3.5 Practice: working with branchs\n",
    "\n",
    "- Create a new branch (e.g. `save_pca`) from your main branch.  \n",
    "- On this branch, add the option to **save the PCA-reduced dataset** with 4 components into a CSV file.  \n",
    "- Commit your changes and push the branch.  \n",
    "- Later, you can merge this branch into `main` if everything works correctly.  "
   ]
  },
  {
   "cell_type": "markdown",
   "id": "bc66b2af",
   "metadata": {},
   "source": [
    "### 3.5 (Optional) Organizing Work into Functionalities and Branches\n",
    "- Go back to your TP1 project. \n",
    "- Identify 3 to 4 main functionalities. \n",
    "- Team up with one or two colleagues, assign the functionalities among you, and develop each one in a separate branch. \n",
    "- Once the work is done, merge all the branches into the main project."
   ]
  },
  {
   "cell_type": "markdown",
   "id": "e5d94312",
   "metadata": {},
   "source": [
    "## 4 – Reflection on AI and Ethics"
   ]
  },
  {
   "cell_type": "markdown",
   "id": "4b82dc96",
   "metadata": {},
   "source": [
    "### Ethical Reflection Exercise  \n",
    "\n",
    "**Context:**  \n",
    "A company wants to use the **Open Food Facts dataset (France)** to build an AI system that recommends food products to consumers.  \n",
    "The dataset includes nutritional values, NutriScore grades, environmental scores, and brand information.  \n",
    "\n",
    "**Objective:**  \n",
    "Help consumers make healthier and more sustainable food choices.  \n",
    "\n",
    "**Task (20 minutes):**  \n",
    "Work in groups of 3 and apply the **7-step ethical reflection framework**:  \n",
    "\n",
    "1. **Understand the situation** – define context, objectives, key facts.  \n",
    "2. **Generate solutions** – brainstorm at least 3 alternatives.  \n",
    "3. **Identify stakeholders** – list all affected groups.  \n",
    "4. **Assess impacts** – analyze positive and negative impacts for each solution.  \n",
    "5. **Apply ethical filter** – check fairness, safety, privacy, transparency.  \n",
    "6. **Make a decision** – select one solution as a group.  \n",
    "7. **Final ethical check** – Would you trust this system? Would you defend the decision publicly?  \n"
   ]
  },
  {
   "cell_type": "code",
   "execution_count": null,
   "id": "78082ba2",
   "metadata": {},
   "outputs": [],
   "source": [
    "#TODO solution "
   ]
  },
  {
   "cell_type": "markdown",
   "id": "ba13dd66",
   "metadata": {},
   "source": [
    "---\n",
    "\n",
    "🎉 Good job! The lab is finished here ! \n",
    "\n",
    "You now know how to structure a project, use GitHub, and ensure reproducibility.  \n",
    "And remember: working with AI also means thinking about **ethics** .  \n"
   ]
  },
  {
   "cell_type": "markdown",
   "id": "baba28d3",
   "metadata": {},
   "source": []
  }
 ],
 "metadata": {
  "kernelspec": {
   "display_name": "Lab2_pouly",
   "language": "python",
   "name": "python3"
  },
  "language_info": {
   "codemirror_mode": {
    "name": "ipython",
    "version": 3
   },
   "file_extension": ".py",
   "mimetype": "text/x-python",
   "name": "python",
   "nbconvert_exporter": "python",
   "pygments_lexer": "ipython3",
   "version": "3.11.13"
  }
 },
 "nbformat": 4,
 "nbformat_minor": 5
}
