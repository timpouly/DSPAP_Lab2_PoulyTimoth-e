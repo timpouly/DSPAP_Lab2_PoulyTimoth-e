{
 "cells": [
  {
   "cell_type": "markdown",
   "id": "fd2d9d7f",
   "metadata": {},
   "source": [
    "# Lab 2 – Essential Tools and Practices for Programming Projects in AI\n",
    "\n",
    "TP of Timothée POULY\n",
    "\n",
    "Author: Rim Slama Salmi\n",
    "\n",
    "Last modified: September 14, 2025\n",
    "\n",
    "**Objectives**\n",
    "- Manage virtual environments properly (with Conda or venv) to ensure reproducibility.\n",
    "- Set up a Python project following best practices.\n",
    "- Use Git and GitHub to ensure collaborative project tracking.\n",
    "- Apply collaborative work with branch management and conflict resolution\n",
    "  \n",
    "**Resources**\n",
    "\n",
    "- [Getting started with VS Code](https://code.visualstudio.com/docs/getstarted/getting-started)  \n",
    "- [Create a conda environment in the terminal](https://code.visualstudio.com/docs/python/environments#_create-a-conda-environment-in-the-terminal)  \n",
    "- [Git management in Visual Studio Code](https://code.visualstudio.com/docs/sourcecontrol/overview)  \n",
    "\n"
   ]
  },
  {
   "cell_type": "markdown",
   "id": "5faf1fd7",
   "metadata": {},
   "source": [
    "## 01 - Project setup (virtual env & Git/Github)"
   ]
  },
  {
   "cell_type": "markdown",
   "id": "5dd3759e",
   "metadata": {},
   "source": [
    "### 1.1 Load and open the project folder in VS Code\n",
    "- Load DSPAP_Lab2 from Moodle\n",
    "- Rename it to **DSPAP_Lab2_YourName**\n",
    "- Open **VS Code** → `File` → `Open Folder…` → select **DSPAP_Lab2_YourName**  \n"
   ]
  },
  {
   "cell_type": "markdown",
   "id": "af6a147f",
   "metadata": {},
   "source": [
    "### 1.2 Activate Lab2 environment or create it from `.yml` file  \n",
    "\n",
    "- In the VS Code terminal, make sure you have a dedicated environment for **Lab2**.  \n",
    "\n",
    "👉 If it does not exist yet, create it with:  \n",
    "- Option 1: If you already have a Lab2.yml file, you can recreate the environment directly:\n",
    "```bash\n",
    "conda env create -f Lab2.yml\n",
    "```\n",
    "- Option2: Create it for the first time with:  \n",
    "```bash\n",
    "conda create -n Lab2_yourName python=3.11 numpy pandas matplotlib pyyaml scikit-learn ipykernel\n",
    "```\n"
   ]
  },
  {
   "cell_type": "markdown",
   "id": "7b0ecc65",
   "metadata": {},
   "source": [
    "\n",
    "### 1.3 Start version control\n",
    "- VS Code interface: open the Source Control panel → Initialize Repository → Stage → Commit\n",
    "\n",
    "- Command line:\n",
    "```bash\n",
    "    git init\n",
    "    git add .\n",
    "    git commit -m \"Initial commit\"\n",
    "```"
   ]
  },
  {
   "cell_type": "markdown",
   "id": "b671dcf4",
   "metadata": {},
   "source": [
    "### 1.4 Connect to GitHub\n",
    "- Publish repository from VS Code → choose your account → set Private visibility"
   ]
  },
  {
   "cell_type": "markdown",
   "id": "ffc6dd49",
   "metadata": {},
   "source": [
    "\n",
    "### 1.5 Add a .gitignore (if not already)\n",
    "- Create a .gitignore file and include:*.txt\n",
    "- Commit with message"
   ]
  },
  {
   "cell_type": "markdown",
   "id": "ac0b3d5d",
   "metadata": {},
   "source": [
    "### 1.6 Sync changes to GitHub\n",
    "- In the Source Control panel, click Sync Changes (🔄)"
   ]
  },
  {
   "cell_type": "markdown",
   "id": "59055217",
   "metadata": {},
   "source": [
    " \n",
    "## 2 – Best Practices in AI Project Management & Code\n",
    "⚠️ All operations must be tracked with explicit commits.\n"
   ]
  },
  {
   "cell_type": "markdown",
   "id": "d2b4d0a9",
   "metadata": {},
   "source": [
    "- This lab uses a reduced subset of the Open Food Facts (France) database, which you already worked with in Lab 1.\n",
    "- For this session, we focus on a France-specific subset containing selected columns on metadata, nutrients, and scores.\n",
    "- The dataset provided (cleaned.csv) has already been cleaned, with missing values removed."
   ]
  },
  {
   "cell_type": "code",
   "execution_count": 1,
   "id": "c8cc6c39",
   "metadata": {},
   "outputs": [],
   "source": [
    "#Imports \n",
    "# THIS CELL IS ONLY FOR IMPORTS DO NOT CHANGE IT\n",
    "import os, numpy as np, pandas as pd, matplotlib.pyplot as plt\n",
    "from pathlib import Path\n",
    "import yaml\n",
    "from sklearn.preprocessing import StandardScaler\n",
    "from sklearn.decomposition import PCA\n"
   ]
  },
  {
   "cell_type": "code",
   "execution_count": 2,
   "id": "b3f323d3",
   "metadata": {},
   "outputs": [],
   "source": [
    "#paths\n",
    "DATASET_PATH=\"cleaned.csv\"\n",
    "YML_path = \"config.yaml\""
   ]
  },
  {
   "cell_type": "markdown",
   "id": "02494c7c",
   "metadata": {},
   "source": [
    "### 2.1 Project organization\n",
    "\n",
    "👉 Instruction:  \n",
    "- Rename your project folder to **DSPAP_Lab2_YourName** (*replace `YourName` with your own name*).  \n",
    "- If some of your files have names that are not meaningful (e.g. `test1.ipynb`, `data123.csv`), **rename them with clear, descriptive names** (e.g. `data_cleaned.csv`, `analysis.ipynb`).  \n",
    "- Then, place your files into a clean and consistent folder structure, here an example of good structure:\n",
    "\n",
    "  \n",
    "    DSPAP_Lab2/\n",
    "\n",
    "    ├─ data/           # datasets\n",
    "\n",
    "    ├─ notebooks/      # Jupyter notebooks\n",
    "\n",
    "    ├─ src/            # Python modules (.py)\n",
    "\n",
    "    ├─ config/         # configuration files\n",
    "\n",
    "    └─ README.md\n"
   ]
  },
  {
   "cell_type": "markdown",
   "id": "1217d6c4",
   "metadata": {},
   "source": [
    "### 2.2 **Load** the dataset from cleaned.csv, **display** a few sample rows, and **check** the shape of the data (number of rows and columns).\n",
    "Load the CSV into a DataFrame `df`. \n",
    " Use the `pd.read_csv()` function. \n",
    "\n",
    " Explore it "
   ]
  },
  {
   "cell_type": "code",
   "execution_count": 3,
   "id": "a8ccd9e7",
   "metadata": {},
   "outputs": [],
   "source": [
    "# TODO 2.2\n",
    "# 1. Load the dataset from 'cleaned.csv' into a DataFrame (use pandas)\n",
    "# 2. Display the first few rows of the dataset\n",
    "# 3. Print the shape of the dataset (rows, columns)"
   ]
  },
  {
   "cell_type": "markdown",
   "id": "bb3cd187",
   "metadata": {},
   "source": [
    "### 2.2 Remember and execute PCA main operations from TP1 "
   ]
  },
  {
   "cell_type": "markdown",
   "id": "8e28a723",
   "metadata": {},
   "source": [
    "\n",
    "From the full dataset, we now focus on a subset of **nutritional features** that will be used for analysis and modeling.  \n",
    "We create a clean DataFrame with only these columns, extract the underlying numerical values into a NumPy array `X`, and check its shape (rows × columns)."
   ]
  },
  {
   "cell_type": "markdown",
   "id": "3ceb6c4a",
   "metadata": {},
   "source": [
    "1. **Select features**  \n",
    "   - Nutrients: `sugars_100g`, `fat_100g`, `salt_100g`, `proteins_100g`, `energy-kcal_100g`, `fiber_100g`  \n",
    "   - Drop rows with missing values before building the feature matrix.\n",
    "\n",
    "2. **Standardize**  \n",
    "   - Use `StandardScaler` to center and scale features.  \n",
    "   - Standardization is important because nutrients are in different units (g, kcal, etc.).  \n",
    "   - 📖 [StandardScaler](https://scikit-learn.org/stable/modules/generated/sklearn.preprocessing.StandardScaler.html)\n",
    "\n",
    "3. **Fit PCA**  \n",
    "   - Run `PCA()` on the standardized data.  \n",
    "   - Plot both the explained variance ratio (per component) and the cumulative ratio.  \n",
    "   - These show how much information each principal component captures.  \n",
    "   - 📖 [PCA](https://scikit-learn.org/stable/modules/generated/sklearn.decomposition.PCA.html)"
   ]
  },
  {
   "cell_type": "code",
   "execution_count": 4,
   "id": "fc178733",
   "metadata": {},
   "outputs": [],
   "source": [
    "#(run this cell)\n",
    "#1. **Select features**  \n",
    "#code from solution Lab1 goes here\n",
    "\n",
    "#2. **Standardize**  \n",
    "#code from solution Lab1 goes here\n",
    "\n",
    "#3. **Fit PCA**  \n",
    "#code from solution Lab1 goes here\n",
    "\n",
    "# **Explained Ratio*  \n",
    "#code from solution Lab1 goes here\n",
    "\n",
    "# cumulative explained variance ratio\n",
    "#code from solution Lab1 goes here\n",
    "\n",
    "#display Correlation circle\n",
    "#code from solution Lab1 goes here"
   ]
  },
  {
   "cell_type": "markdown",
   "id": "1f9b1e85",
   "metadata": {},
   "source": [
    "### 2.3 Display PCA correlation circle (axes 1–2) from TP1."
   ]
  },
  {
   "cell_type": "code",
   "execution_count": 5,
   "id": "f4999012",
   "metadata": {},
   "outputs": [],
   "source": [
    "#(run this cell)\n",
    "#code from solution goes here"
   ]
  },
  {
   "cell_type": "markdown",
   "id": "5899780a",
   "metadata": {},
   "source": [
    "### 2.4 Write a commented function to automate correlation circle display and give example usage for axes 1–2, 2–3, 1-3.\n",
    "💡 *Hints & Recommendations:*  \n",
    "- Use **snake_case** for the function name and variables.\n",
    "- Add a **docstring** at the start of your function explaining what it does, its inputs, and outputs.  \n",
    "- Comment important steps inside the function (data extraction, plotting, labeling).  \n",
    "- Test your function with different axes combinations: (1–2), (2–3), (1–3).  \n",
    "  \n",
    "Here’s how to write a clean and well-documented function that adds two numbers:\n",
    "```python\n",
    "def add_two_numbers(a, b):\n",
    "    \"\"\"\n",
    "    Return the sum of two numbers.\n",
    "\n",
    "    Parameters\n",
    "    ----------\n",
    "    a : int or float\n",
    "        First number.\n",
    "    b : int or float\n",
    "        Second number.\n",
    "\n",
    "    Returns\n",
    "    -------\n",
    "    int or float\n",
    "        The sum of a and b.\n",
    "    \"\"\"\n",
    "    # Add the two inputs\n",
    "    result = a + b\n",
    "\n",
    "    # Return the result\n",
    "    return result\n",
    "```\n",
    "Example usage\n",
    "```python\n",
    "print(add_two_numbers(3, 5))     # 8\n",
    "```"
   ]
  },
  {
   "cell_type": "code",
   "execution_count": 6,
   "id": "26df31e5",
   "metadata": {},
   "outputs": [],
   "source": [
    "# TODO 2.4\n",
    "# Write a function to automate the display of correlation circles \n",
    "# try it  PCA components axes 1–2, 2–3, and 1–3\n"
   ]
  },
  {
   "cell_type": "markdown",
   "id": "4834bbc4",
   "metadata": {},
   "source": [
    "### 2.4 Place the function inside the corresponding folder, in a dedicated Python module. "
   ]
  },
  {
   "cell_type": "code",
   "execution_count": 7,
   "id": "60b836fd",
   "metadata": {},
   "outputs": [],
   "source": [
    "####TODO\n",
    "#Write here the **name of your file** where you put the function and its **location** in the project structure"
   ]
  },
  {
   "cell_type": "markdown",
   "id": "3e6e8624",
   "metadata": {},
   "source": [
    "### 2.5  Import the function you created from the Python file in the `src/` folder.  Call it to display the **correlation circle for PCA axes 1 and 3**.  \n",
    "\n",
    "💡 Example of importing a function from a Python module\n",
    "  ```python\n",
    "  from folder.module_name import function_name\n",
    "```\n",
    "💡 Recommendation:\n",
    "To avoid errors if the file or function is not found, wrap your import in a try/except block\n"
   ]
  },
  {
   "cell_type": "code",
   "execution_count": 8,
   "id": "66c1def9",
   "metadata": {},
   "outputs": [],
   "source": [
    "### TODO\n",
    "\n",
    "# Import your function from the Python file you created and call it to display the correlation circle for PCA axes 1 and 3."
   ]
  },
  {
   "cell_type": "markdown",
   "id": "b33d856c",
   "metadata": {},
   "source": [
    "### 2.6 Update notebook to read CSV path and number of PCA components from config.yaml\n",
    "- **Reload** the dataset from the path specified in YAML.  \n",
    "- Get `data_path` and `n_components` from config  \n",
    "- **Redo** the **PCA** on your feature matrix `X` using the number of components defined in YAML and display the new dataset with the proposed n_components.  \n",
    "\n",
    "- Tuto\n",
    "📘 [Working with YAML in Python (blog.stephane-robert.info)](https://blog.stephane-robert.info/docs/developper/programmation/python/yaml/)  \n"
   ]
  },
  {
   "cell_type": "code",
   "execution_count": 10,
   "id": "41e4fe87",
   "metadata": {},
   "outputs": [
    {
     "ename": "NameError",
     "evalue": "name 'pca2' is not defined",
     "output_type": "error",
     "traceback": [
      "\u001b[31m---------------------------------------------------------------------------\u001b[39m",
      "\u001b[31mNameError\u001b[39m                                 Traceback (most recent call last)",
      "\u001b[36mCell\u001b[39m\u001b[36m \u001b[39m\u001b[32mIn[10]\u001b[39m\u001b[32m, line 7\u001b[39m\n\u001b[32m      1\u001b[39m \u001b[38;5;66;03m### TODO 2.6\u001b[39;00m\n\u001b[32m      2\u001b[39m \n\u001b[32m      3\u001b[39m \u001b[38;5;66;03m# - Load `config/config.yaml` with yaml.safe_load  \u001b[39;00m\n\u001b[32m      4\u001b[39m \u001b[38;5;66;03m# - Get `data_path` and `n_components` from config  \u001b[39;00m\n\u001b[32m      5\u001b[39m \u001b[38;5;66;03m# - Use them when reading CSV and fitting PCA  \u001b[39;00m\n\u001b[32m----> \u001b[39m\u001b[32m7\u001b[39m NewDataset2 = pd.DataFrame(\u001b[43mpca2\u001b[49m.components_.T, index=feats, columns=[\u001b[33mf\u001b[39m\u001b[33m\"\u001b[39m\u001b[33mPC\u001b[39m\u001b[38;5;132;01m{\u001b[39;00mi+\u001b[32m1\u001b[39m\u001b[38;5;132;01m}\u001b[39;00m\u001b[33m\"\u001b[39m \u001b[38;5;28;01mfor\u001b[39;00m i \u001b[38;5;129;01min\u001b[39;00m \u001b[38;5;28mrange\u001b[39m(pca.components_.shape[\u001b[32m0\u001b[39m])])\n\u001b[32m      8\u001b[39m display(\u001b[33m'\u001b[39m\u001b[33mNewDataset\u001b[39m\u001b[33m'\u001b[39m,NewDataset)\n",
      "\u001b[31mNameError\u001b[39m: name 'pca2' is not defined"
     ]
    }
   ],
   "source": [
    "\n",
    "### TODO 2.6\n",
    "\n",
    "# - Load `config/config.yaml` with yaml.safe_load  \n",
    "# - Get `data_path` and `n_components` from config  \n",
    "# - Use them when reading CSV and fitting PCA  \n",
    "\n",
    "NewDataset2 = pd.DataFrame(pca2.components_.T, index=feats, columns=[f\"PC{i+1}\" for i in range(pca.components_.shape[0])])\n",
    "display('NewDataset',NewDataset)"
   ]
  },
  {
   "cell_type": "markdown",
   "id": "409a5102",
   "metadata": {},
   "source": [
    "### 2.7 Create a README.md with the title: **Essential Tools and Practices for Programming Projects in AI**\n",
    "📝 A simple guide to get started with markdown:  \n",
    "[Markdown Basic Syntax (markdownguide.org)](https://www.markdownguide.org/basic-syntax/)"
   ]
  },
  {
   "cell_type": "code",
   "execution_count": null,
   "id": "953f8330",
   "metadata": {},
   "outputs": [],
   "source": [
    "#TODO\n",
    "#Create a README.md with the title: **Essential Tools and Practices for Programming Projects in AI**"
   ]
  },
  {
   "cell_type": "markdown",
   "id": "b1353181",
   "metadata": {},
   "source": [
    "## 3 – Collaboration and Sharing with Git/GitHub"
   ]
  },
  {
   "cell_type": "markdown",
   "id": "3660cdf4",
   "metadata": {},
   "source": [
    "### 3.1 Share the project\n",
    "•\tStudent 1 shares their GitHub project and adds Student 2 as collaborator.\n",
    "•\tStudent 2 clones the project.\n"
   ]
  },
  {
   "cell_type": "markdown",
   "id": "a32da649",
   "metadata": {},
   "source": [
    "### 3.2 Create the environment\n",
    "•\tInside VS Code terminal:\n",
    "•\tconda env create -f environment.yml\n",
    "•\tconda activate Lab2_name\n"
   ]
  },
  {
   "cell_type": "markdown",
   "id": "abf8c5fe",
   "metadata": {},
   "source": [
    "### 3.3 Collaborative work (on Student 1’s project)\n",
    "•\tFrom now on, each pair works only on Student 1’s project.\n",
    "•\tStudent 1 and Student 2 create separate branches to collaboratively write the README:\n",
    "\n",
    "- Branch feature1_projectInfo (Student 1):\n",
    "  - Project Title & Description – what the project does\n",
    "  - Author(s) – contributors and contact info\n",
    "  - Citation/License – mention that this comes from Angelo Furno’s course\n",
    "- Branch feature2_projectSetUp (Student 2):\n",
    "  - Installation – environment setup (Lab2_name)\n",
    "  - Usage – how to run notebooks\n",
    "  - Results – main outputs/metrics (optional)\n",
    "  - Project Structure – short folder overview\n",
    "\n"
   ]
  },
  {
   "cell_type": "markdown",
   "id": "0c0483df",
   "metadata": {},
   "source": [
    "### 3.4 Sync & merge\n",
    "•\tPush contributions to GitHub.\n",
    "•\tMerge branches into main to obtain a complete README.\n",
    "•\tHandle merge conflicts directly in VS Code if needed.\n"
   ]
  },
  {
   "cell_type": "markdown",
   "id": "a6f98340",
   "metadata": {},
   "source": [
    "### 3.5 Practice: working with branchs\n",
    "\n",
    "- Create a new branch (e.g. `save_pca`) from your main branch.  \n",
    "- On this branch, add the option to **save the PCA-reduced dataset** with 4 components into a CSV file.  \n",
    "- Commit your changes and push the branch.  \n",
    "- Later, you can merge this branch into `main` if everything works correctly.  "
   ]
  },
  {
   "cell_type": "markdown",
   "id": "bc66b2af",
   "metadata": {},
   "source": [
    "### 3.5 (Optional) Organizing Work into Functionalities and Branches\n",
    "- Go back to your TP1 project. \n",
    "- Identify 3 to 4 main functionalities. \n",
    "- Team up with one or two colleagues, assign the functionalities among you, and develop each one in a separate branch. \n",
    "- Once the work is done, merge all the branches into the main project."
   ]
  },
  {
   "cell_type": "markdown",
   "id": "e5d94312",
   "metadata": {},
   "source": [
    "## 4 – Reflection on AI and Ethics"
   ]
  },
  {
   "cell_type": "markdown",
   "id": "4b82dc96",
   "metadata": {},
   "source": [
    "### Ethical Reflection Exercise  \n",
    "\n",
    "**Context:**  \n",
    "A company wants to use the **Open Food Facts dataset (France)** to build an AI system that recommends food products to consumers.  \n",
    "The dataset includes nutritional values, NutriScore grades, environmental scores, and brand information.  \n",
    "\n",
    "**Objective:**  \n",
    "Help consumers make healthier and more sustainable food choices.  \n",
    "\n",
    "**Task (20 minutes):**  \n",
    "Work in groups of 3 and apply the **7-step ethical reflection framework**:  \n",
    "\n",
    "1. **Understand the situation** – define context, objectives, key facts.  \n",
    "2. **Generate solutions** – brainstorm at least 3 alternatives.  \n",
    "3. **Identify stakeholders** – list all affected groups.  \n",
    "4. **Assess impacts** – analyze positive and negative impacts for each solution.  \n",
    "5. **Apply ethical filter** – check fairness, safety, privacy, transparency.  \n",
    "6. **Make a decision** – select one solution as a group.  \n",
    "7. **Final ethical check** – Would you trust this system? Would you defend the decision publicly?  \n"
   ]
  },
  {
   "cell_type": "code",
   "execution_count": null,
   "id": "78082ba2",
   "metadata": {},
   "outputs": [],
   "source": [
    "#TODO solution "
   ]
  },
  {
   "cell_type": "markdown",
   "id": "ba13dd66",
   "metadata": {},
   "source": [
    "---\n",
    "\n",
    "🎉 Good job! The lab is finished here ! \n",
    "\n",
    "You now know how to structure a project, use GitHub, and ensure reproducibility.  \n",
    "And remember: working with AI also means thinking about **ethics** .  \n"
   ]
  },
  {
   "cell_type": "markdown",
   "id": "baba28d3",
   "metadata": {},
   "source": []
  }
 ],
 "metadata": {
  "kernelspec": {
   "display_name": "Lab2_pouly",
   "language": "python",
   "name": "python3"
  },
  "language_info": {
   "codemirror_mode": {
    "name": "ipython",
    "version": 3
   },
   "file_extension": ".py",
   "mimetype": "text/x-python",
   "name": "python",
   "nbconvert_exporter": "python",
   "pygments_lexer": "ipython3",
   "version": "3.11.13"
  }
 },
 "nbformat": 4,
 "nbformat_minor": 5
}
